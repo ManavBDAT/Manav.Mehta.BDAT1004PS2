{
 "cells": [
  {
   "cell_type": "markdown",
   "id": "32f4df0b",
   "metadata": {},
   "source": [
    "# Problem Set 2\n",
    "This problem set is based on lectures 4,5 and 6. For a complete list of topics please\n",
    "consult page 2 of the course syllabus. Please consult the “Instructions for Problem\n",
    "Set Submissions” document under course information before submitting your\n",
    "assignment."
   ]
  },
  {
   "cell_type": "markdown",
   "id": "ea7823ba",
   "metadata": {},
   "source": [
    "Question 1\n",
    "Consider the following Python module:\n",
    "a = 0\n",
    "def b():\n",
    "global a\n",
    "a = c(a)\n",
    "def c(a):\n",
    "return a + 2"
   ]
  },
  {
   "cell_type": "code",
   "execution_count": 4,
   "id": "22cf6c60",
   "metadata": {},
   "outputs": [
    {
     "name": "stdout",
     "output_type": "stream",
     "text": [
      "6\n"
     ]
    }
   ],
   "source": [
    "a = 0\n",
    "def b():\n",
    "    global a\n",
    "    a = c(a)\n",
    "def c(a):\n",
    "    return a + 2\n",
    "\n",
    "b()\n",
    "b()\n",
    "b()\n",
    "print(a)"
   ]
  },
  {
   "cell_type": "markdown",
   "id": "475b3ca4",
   "metadata": {},
   "source": [
    "# Answer 1 : \n",
    "The answer displayed is 6 We are making the local variable 'a' as a global variable as it can be used within the fuction c(). First a=o, then it is declared global and passed to c, where it gets added as 2 and returned .Again this process repeats twice, a gets added up and becomes 6."
   ]
  },
  {
   "cell_type": "markdown",
   "id": "82a994ba",
   "metadata": {},
   "source": [
    "# Question 2\n",
    "\n",
    "Function fileLength(), given to you, takes the name of a file as input and returns the length of the file:\n",
    "\n",
    "fileLength('idterm.py') File \"/Users/me/midterm.py\", line 3, in fileLength infile = open(filename) FileNotFoundError: [Errno 2] No such file or directory: 'idterm.py' As shown above, if the file cannot be found by the interpreter or if it cannot be read as a text file, an exception will be raised. Modify function fileLength() so that a friendly message is printed instead:"
   ]
  },
  {
   "cell_type": "code",
   "execution_count": 5,
   "id": "e58ec5e9",
   "metadata": {},
   "outputs": [
    {
     "name": "stdout",
     "output_type": "stream",
     "text": [
      "477\n",
      "wrongfile.py not found\n"
     ]
    }
   ],
   "source": [
    "def file_length(file_name):\n",
    "    try:\n",
    "        file = open(file_name)\n",
    "        contents = file.read()\n",
    "        file.close()\n",
    "        print(len(contents))\n",
    "    except FileNotFoundError:\n",
    "        print(file_name+\" not found\")\n",
    "\n",
    "file_length('D:\\Study material\\BDAT 1004 Data Programming\\currencies.txt')\n",
    "file_length('wrongfile.py')"
   ]
  },
  {
   "cell_type": "markdown",
   "id": "40437dcd",
   "metadata": {},
   "source": [
    "# Question 3\n",
    "Write a class named Marsupial that can be used as shown below:\n",
    ">>> m = Marsupial()\n",
    ">>> m.put_in_pouch('doll')\n",
    ">>> m.put_in_pouch('firetruck')\n",
    ">>> m.put_in_pouch('kitten')\n",
    ">>> m.pouch_contents()\n",
    "['doll', 'firetruck', 'kitten']\n",
    "\n",
    "Now write a class named Kangaroo as a subclass of Marsupial that inherits all the\n",
    "attributes of Marsupial and also:\n",
    "a. extends the Marsupial __init__ constructor to take, as input, the\n",
    "coordinates x and y of the Kangaroo object,\n",
    "b. supports method jump that takes number values dx and dy as input and\n",
    "movesthe kangaroo by dx units along the x-axis and by dy units along the yaxis, and\n",
    "c. overloads the __str__ operator so it behaves as shown below.\n",
    "\n",
    ">>> k = Kangaroo(0,0)\n",
    ">>> print(k)\n",
    "I am a Kangaroo located at coordinates (0,0)\n",
    ">>> k.put_in_pouch('doll')\n",
    ">>> k.put_in_pouch('firetruck')\n",
    ">>> k.put_in_pouch('kitten')\n",
    ">>> k.pouch_contents()\n",
    "['doll', 'firetruck', 'kitten']\n",
    ">>> k.jump(1,0)\n",
    ">>> k.jump(1,0)\n",
    ">>> k.jump(1,0)\n",
    ">>> print(k)\n",
    "I am a Kangaroo located at coordinates (3,0)"
   ]
  },
  {
   "cell_type": "code",
   "execution_count": 12,
   "id": "5986b40a",
   "metadata": {},
   "outputs": [
    {
     "name": "stdout",
     "output_type": "stream",
     "text": [
      "['doll', 'firetruck', 'kitten']\n",
      "I am a Kangaroo located at coordinates (0, 0)\n",
      "['doll', 'firetruck', 'kitten']\n",
      "I am a Kangaroo located at coordinates (3, 0)\n"
     ]
    }
   ],
   "source": [
    "class Marsupial:\n",
    "    \n",
    "    def __init__(self):\n",
    "        self.pouch=[]\n",
    "    def put_in_pouch(self,item):\n",
    "        self.pouch.append(item)\n",
    "    def pouch_contents(self):\n",
    "        print(self.pouch)\n",
    "        \n",
    "class Kangaroo(Marsupial):\n",
    "    def __init__(self,x1,y1):\n",
    "        self.x = x1\n",
    "        self.y = y1\n",
    "        Marsupial.__init__(self)\n",
    "    \n",
    "    def jump(self,x1,y1):\n",
    "        self.x = self.x + x1\n",
    "        self.y = self.y + y1\n",
    "        \n",
    "    def __str__(self):\n",
    "        return 'I am a Kangaroo located at coordinates ({}, {})'.format(self.x, self.y)\n",
    "\n",
    "m=Marsupial()\n",
    "m.put_in_pouch(\"doll\")\n",
    "m.put_in_pouch(\"firetruck\")\n",
    "m.put_in_pouch(\"kitten\")\n",
    "m.pouch_contents()\n",
    "\n",
    "k=Kangaroo(0,0)\n",
    "print(k)\n",
    "k.put_in_pouch(\"doll\")\n",
    "k.put_in_pouch(\"firetruck\")\n",
    "k.put_in_pouch(\"kitten\")\n",
    "k.pouch_contents()\n",
    "\n",
    "k.jump(1,0)\n",
    "k.jump(1,0)\n",
    "k.jump(1,0)\n",
    "print(k)"
   ]
  },
  {
   "cell_type": "markdown",
   "id": "f3c08b4d",
   "metadata": {},
   "source": [
    "# Question 4\n",
    "Write function collatz() that takes a positive integer x as input and prints the\n",
    "Collatz sequence starting at x. A Collatz sequence is obtained by repeatedly applying\n",
    "this rule to the previous number x in the sequence:\n",
    "x = {\n",
    "𝑥/2 𝑖𝑓 𝑥 𝑖𝑠 𝑒𝑣𝑒𝑛3𝑥\n",
    "+1 𝑖𝑓 𝑥 𝑖𝑠 𝑜𝑑𝑑\n",
    "Your function should stop when the sequence gets to number 1. Your\n",
    "implementation must be recursive, without any loops."
   ]
  },
  {
   "cell_type": "code",
   "execution_count": 12,
   "id": "ece64355",
   "metadata": {},
   "outputs": [
    {
     "name": "stdout",
     "output_type": "stream",
     "text": [
      "1\n",
      "----------------\n",
      "10\n",
      "5\n",
      "16\n",
      "8\n",
      "4\n",
      "2\n",
      "1\n"
     ]
    }
   ],
   "source": [
    "def collatz(x):\n",
    "    print(int(x))\n",
    "    if x > 1:\n",
    "        if x%2==0:\n",
    "            collatz(int(x)/2)\n",
    "        else:\n",
    "            collatz((int(x) * 3) + 1)\n",
    "collatz(1)\n",
    "print('----------------')\n",
    "collatz(10)"
   ]
  },
  {
   "cell_type": "markdown",
   "id": "3191acb9",
   "metadata": {},
   "source": [
    "# Question 5\n",
    "Write a recursive method binary() that takes a non-negative\n",
    "integer n and prints the binary representation of integer n.\n",
    ">>> binary(0)\n",
    "0\n",
    ">>> binary(1)\n",
    "1\n",
    ">>> binary(3)\n",
    "11\n",
    ">>> binary(9)\n",
    "1001\n"
   ]
  },
  {
   "cell_type": "code",
   "execution_count": 19,
   "id": "cf0761db",
   "metadata": {},
   "outputs": [
    {
     "data": {
      "text/plain": [
       "1001"
      ]
     },
     "execution_count": 19,
     "metadata": {},
     "output_type": "execute_result"
    }
   ],
   "source": [
    "def binary(n):\n",
    "    if n == 0 :\n",
    "        return 0\n",
    "    else:\n",
    "        return(n % 2 + 10 * binary(int(n // 2)))\n",
    "    \n",
    "\n",
    "binary(9)"
   ]
  },
  {
   "cell_type": "markdown",
   "id": "21345926",
   "metadata": {},
   "source": [
    "# Question 6\n",
    "Implement a class named HeadingParser that can be used to parse an HTML document, and retrieve and print all the headings in the document. You should implement your class as a subclass of HTMLParser, defined in Standard Library module html.parser. When fed a string containing HTML code, your class should print the headings, one per line and in the order in which they appear in the\n",
    "from html.parser import HTMLParserdocument.Each heading should be indented asfollows: an h1 heading should have indentation 0, and h2 heading should have indentation 1, etc. Test your implementation using w3c.html."
   ]
  },
  {
   "cell_type": "code",
   "execution_count": 30,
   "id": "ed4dfe73",
   "metadata": {},
   "outputs": [
    {
     "name": "stdout",
     "output_type": "stream",
     "text": [
      "W3C Mission\n",
      " Principles\n"
     ]
    }
   ],
   "source": [
    "from html.parser import HTMLParser\n",
    "class HeadingParser(HTMLParser):\n",
    "    Tag1 = False\n",
    "    Tag2 = False\n",
    "    def handle_starttag(self, tag, attrs):\n",
    "        if tag == 'h1':\n",
    "            self.Tag1 = True\n",
    "        if tag == 'h2':\n",
    "            self.Tag2 = True    \n",
    "    def handle_data(self, data):\n",
    "        if self.Tag1 == True:\n",
    "            print(data)\n",
    "        if self.Tag2 == True:\n",
    "            print(' ' + data)\n",
    "    def handle_endtag(self, tag):\n",
    "        if tag == 'h1':\n",
    "            self.Tag1 = False\n",
    "        if tag == 'h2':\n",
    "            self.Tag2 = False\n",
    "            \n",
    "\n",
    "infile = open('D:\\Study material\\BDAT 1004 Data Programming\\w3c.HTML')\n",
    "content = infile.read()\n",
    "infile.close()\n",
    "hp = HeadingParser()\n",
    "hp.feed(content)"
   ]
  },
  {
   "cell_type": "markdown",
   "id": "b8fcf83b",
   "metadata": {},
   "source": [
    "# Question 7\n",
    "Implement recursive function webdir() that takes as input: a URL (as a string) and\n",
    "non-negative integers depth and indent. Your function should visit every web\n",
    "page reachable from the starting URL web page in depth clicks or less, and print\n",
    "each web page's URL. As shown below, indentation, specified by indent, should\n",
    "be used to indicate the depth of a URL.\n",
    "\n",
    ">>>\n",
    "\n",
    "webdir('http://reed.cs.depaul.edu/lperkovic/csc242/test1.html'\n",
    ", 2, 0)\n",
    "http://reed.cs.depaul.edu/lperkovic/csc242/test1.html\n",
    "http://reed.cs.depaul.edu/lperkovic/csc242/test2.html\n",
    "http://reed.cs.depaul.edu/lperkovic/csc242/test4.html\n",
    "http://reed.cs.depaul.edu/lperkovic/csc242/test3.html\n",
    "http://reed.cs.depaul.edu/lperkovic/csc242/test4.html"
   ]
  },
  {
   "cell_type": "code",
   "execution_count": 20,
   "id": "c24fd4c2",
   "metadata": {},
   "outputs": [
    {
     "name": "stdout",
     "output_type": "stream",
     "text": [
      "  W3C Mission \n",
      "  \n",
      "\t \n",
      "   Principles \n"
     ]
    }
   ],
   "source": [
    "from html.parser import HTMLParser           \n",
    "f = open(r'D:\\Study material\\BDAT 1004 Data Programming\\w3c.HTML')            \n",
    "a=str(f.read())\n",
    "\n",
    "class HeadingParser(HTMLParser):        \n",
    "  \n",
    "    def __init__(self):                    \n",
    "        HTMLParser.__init__(self)\n",
    "        self.flag = 0 \n",
    "    \n",
    "    def handle_starttag(self, tag, attrs):                     \n",
    "        \n",
    "        if tag == 'h1' or tag == 'h2' or tag == 'h3' or tag == 'h4' or tag=='h5' or tag == 'h6' or tag == 'h7':\n",
    "            self.flag += 1                                     \n",
    "        else:\n",
    "            self.flag = 0\n",
    "            \n",
    "    def handle_data(self, data):           \n",
    "        if self.flag and data!='\\n':\n",
    "            \n",
    "            print('{} {} '.format(self.flag*' ', data))\n",
    "\n",
    "\n",
    "parser = HeadingParser()                           \n",
    "parser.feed(a)"
   ]
  },
  {
   "cell_type": "markdown",
   "id": "fcb73226",
   "metadata": {},
   "source": [
    "# Question 8\n",
    "Write SQL queries on the below database table that return:\n",
    "a) All the temperature data.\n",
    "b) All the cities, but without repetition.\n",
    "c) All the records for India.\n",
    "d) All the Fall records.\n",
    "e) The city, country, and season for which the average rainfall is between 200\n",
    "and 400 millimeters.\n",
    "f) The city and country for which the average Fall temperature is above 20\n",
    "degrees, in increasing temperature order.\n",
    "g) The total annual rainfall for Cairo.\n",
    "h) The total rainfall for each season."
   ]
  },
  {
   "cell_type": "code",
   "execution_count": 21,
   "id": "9556fe08",
   "metadata": {},
   "outputs": [
    {
     "data": {
      "text/plain": [
       "<sqlite3.Cursor at 0x212b0564f80>"
      ]
     },
     "execution_count": 21,
     "metadata": {},
     "output_type": "execute_result"
    }
   ],
   "source": [
    "import sqlite3\n",
    "con = sqlite3.connect('ipydb.db')\n",
    "cur = con.cursor()\n",
    "cur.execute(\"CREATE TABLE CityWeather (City text, Country text, Season text,Temperature float,Rainfall float)\")"
   ]
  },
  {
   "cell_type": "code",
   "execution_count": 22,
   "id": "a0d9e20f",
   "metadata": {},
   "outputs": [
    {
     "data": {
      "text/plain": [
       "<sqlite3.Cursor at 0x212b0564f80>"
      ]
     },
     "execution_count": 22,
     "metadata": {},
     "output_type": "execute_result"
    }
   ],
   "source": [
    "cur.execute(\"INSERT INTO cityWeather VALUES ('Mumbai', 'India', 'Winter',24.8,5.9)\")\n",
    "cur.execute(\"INSERT INTO cityWeather VALUES ('Mumbai', 'India', 'Spring',28.4,16.2)\")\n",
    "cur.execute(\"INSERT INTO cityWeather VALUES ('Mumbai', 'India', 'Summer',27.9,1549.4 )\")\n",
    "cur.execute(\"INSERT INTO cityWeather VALUES ('Mumbai', 'India', 'Fall',27.6,346.0)\")\n",
    "cur.execute(\"INSERT INTO cityWeather VALUES ('London', 'United Kingdom', 'Winter',4.2,207.7 )\")\n",
    "cur.execute(\"INSERT INTO cityWeather VALUES ('London', 'United Kingdom', 'Spring',8.3,169.6)\")\n",
    "cur.execute(\"INSERT INTO cityWeather VALUES ('London', 'United Kingdom', 'Summer',15.7,157.0)\")\n",
    "cur.execute(\"INSERT INTO cityWeather VALUES ('London', 'United Kingdom', 'Fall',10.4,218.5)\")\n",
    "cur.execute(\"INSERT INTO cityWeather VALUES ('Cairo', 'Egypt', 'Winter',13.6,16.5)\")\n",
    "cur.execute(\"INSERT INTO cityWeather VALUES ('Cairo', 'Egypt', 'Spring',20.7,6.5)\")\n",
    "cur.execute(\"INSERT INTO cityWeather VALUES ('Cairo', 'Egypt', 'Summer',27.7,0.1)\")\n",
    "cur.execute(\"INSERT INTO cityWeather VALUES ('Cairo', 'Egypt', 'Fall',22.2,4.5)\")"
   ]
  },
  {
   "cell_type": "code",
   "execution_count": 23,
   "id": "96ef7377",
   "metadata": {},
   "outputs": [
    {
     "data": {
      "text/plain": [
       "[('Mumbai', 'India', 'Winter', 24.8, 5.9),\n",
       " ('Mumbai', 'India', 'Spring', 28.4, 16.2),\n",
       " ('Mumbai', 'India', 'Summer', 27.9, 1549.4),\n",
       " ('Mumbai', 'India', 'Fall', 27.6, 346.0),\n",
       " ('London', 'United Kingdom', 'Winter', 4.2, 207.7),\n",
       " ('London', 'United Kingdom', 'Spring', 8.3, 169.6),\n",
       " ('London', 'United Kingdom', 'Summer', 15.7, 157.0),\n",
       " ('London', 'United Kingdom', 'Fall', 10.4, 218.5),\n",
       " ('Cairo', 'Egypt', 'Winter', 13.6, 16.5),\n",
       " ('Cairo', 'Egypt', 'Spring', 20.7, 6.5),\n",
       " ('Cairo', 'Egypt', 'Summer', 27.7, 0.1),\n",
       " ('Cairo', 'Egypt', 'Fall', 22.2, 4.5)]"
      ]
     },
     "execution_count": 23,
     "metadata": {},
     "output_type": "execute_result"
    }
   ],
   "source": [
    "cur.execute('SELECT * FROM cityWeather')\n",
    "cur.fetchall()"
   ]
  },
  {
   "cell_type": "markdown",
   "id": "7d87bcbe",
   "metadata": {},
   "source": [
    "# a) All the temperature data."
   ]
  },
  {
   "cell_type": "code",
   "execution_count": 30,
   "id": "47625918",
   "metadata": {},
   "outputs": [
    {
     "name": "stdout",
     "output_type": "stream",
     "text": [
      "(24.8,)\n",
      "(28.4,)\n",
      "(27.9,)\n",
      "(27.6,)\n",
      "(4.2,)\n",
      "(8.3,)\n",
      "(15.7,)\n",
      "(10.4,)\n",
      "(13.6,)\n",
      "(20.7,)\n",
      "(27.7,)\n",
      "(22.2,)\n"
     ]
    }
   ],
   "source": [
    "cur.execute('SELECT temperature FROM cityWeather')\n",
    "A=cur.fetchall()\n",
    "for item in A:\n",
    "    print(item)"
   ]
  },
  {
   "cell_type": "markdown",
   "id": "9be91517",
   "metadata": {},
   "source": [
    "# b) All the cities, but without repetition."
   ]
  },
  {
   "cell_type": "code",
   "execution_count": 25,
   "id": "ce36a20a",
   "metadata": {},
   "outputs": [
    {
     "name": "stdout",
     "output_type": "stream",
     "text": [
      "('Mumbai',)\n",
      "('London',)\n",
      "('Cairo',)\n"
     ]
    }
   ],
   "source": [
    "cur.execute('SELECT DISTINCT City FROM cityWeather')\n",
    "B=cur.fetchall()\n",
    "for item in B:\n",
    "    print(item)"
   ]
  },
  {
   "cell_type": "markdown",
   "id": "369e8cf4",
   "metadata": {},
   "source": [
    "# c) All the records for India."
   ]
  },
  {
   "cell_type": "code",
   "execution_count": 26,
   "id": "6efeceae",
   "metadata": {},
   "outputs": [
    {
     "name": "stdout",
     "output_type": "stream",
     "text": [
      "('Mumbai', 'India', 'Winter', 24.8, 5.9)\n",
      "('Mumbai', 'India', 'Spring', 28.4, 16.2)\n",
      "('Mumbai', 'India', 'Summer', 27.9, 1549.4)\n",
      "('Mumbai', 'India', 'Fall', 27.6, 346.0)\n"
     ]
    }
   ],
   "source": [
    "cur.execute(\"SELECT * FROM cityWeather WHERE Country='India'\")\n",
    "C=cur.fetchall()\n",
    "for item in C:\n",
    "    print(item)"
   ]
  },
  {
   "cell_type": "markdown",
   "id": "9aa9c547",
   "metadata": {},
   "source": [
    "# d) All the Fall records."
   ]
  },
  {
   "cell_type": "code",
   "execution_count": 27,
   "id": "2a31c843",
   "metadata": {},
   "outputs": [
    {
     "name": "stdout",
     "output_type": "stream",
     "text": [
      "('Mumbai', 'India', 'Fall', 27.6, 346.0)\n",
      "('London', 'United Kingdom', 'Fall', 10.4, 218.5)\n",
      "('Cairo', 'Egypt', 'Fall', 22.2, 4.5)\n"
     ]
    }
   ],
   "source": [
    "cur.execute(\"SELECT * FROM cityWeather WHERE Season='Fall'\")\n",
    "D=cur.fetchall()\n",
    "for item in D:\n",
    "    print(item)"
   ]
  },
  {
   "cell_type": "markdown",
   "id": "f5732a43",
   "metadata": {},
   "source": [
    "# e) The city, country, and season for which the average rainfall is between 200 and 400 millimeters."
   ]
  },
  {
   "cell_type": "code",
   "execution_count": 28,
   "id": "c3414773",
   "metadata": {},
   "outputs": [
    {
     "name": "stdout",
     "output_type": "stream",
     "text": [
      "('Mumbai', 'India', 'Fall')\n",
      "('London', 'United Kingdom', 'Winter')\n",
      "('London', 'United Kingdom', 'Fall')\n"
     ]
    }
   ],
   "source": [
    "cur.execute(\"SELECT City,country,Season FROM cityWeather WHERE Rainfall BETWEEN 200 AND 400\")\n",
    "E=cur.fetchall()\n",
    "for item in E:\n",
    "    print(item)"
   ]
  },
  {
   "cell_type": "markdown",
   "id": "630c6ec9",
   "metadata": {},
   "source": [
    "# f) The city and country for which the average Fall temperature is above 20 degrees, in increasing temperature order."
   ]
  },
  {
   "cell_type": "code",
   "execution_count": 31,
   "id": "9c438488",
   "metadata": {},
   "outputs": [
    {
     "name": "stdout",
     "output_type": "stream",
     "text": [
      "('Cairo', 'Egypt')\n",
      "('Mumbai', 'India')\n"
     ]
    }
   ],
   "source": [
    "cur.execute(\"SELECT City,country FROM cityWeather WHERE Season='Fall' AND temperature > 20 ORDER BY temperature ASC\")\n",
    "F=cur.fetchall()\n",
    "for item in F:\n",
    "    print(item)"
   ]
  },
  {
   "cell_type": "markdown",
   "id": "329ece21",
   "metadata": {},
   "source": [
    "# g) The total annual rainfall for Cairo"
   ]
  },
  {
   "cell_type": "code",
   "execution_count": 32,
   "id": "541289fc",
   "metadata": {},
   "outputs": [
    {
     "name": "stdout",
     "output_type": "stream",
     "text": [
      "(27.6,)\n"
     ]
    }
   ],
   "source": [
    "cur.execute(\"SELECT SUM(Rainfall) FROM cityWeather WHERE City='Cairo'\")\n",
    "G=cur.fetchall()\n",
    "for item in G:\n",
    "    print(item)"
   ]
  },
  {
   "cell_type": "markdown",
   "id": "584f0d9b",
   "metadata": {},
   "source": [
    "# h) The total rainfall for each season."
   ]
  },
  {
   "cell_type": "code",
   "execution_count": 33,
   "id": "5ce7c1fa",
   "metadata": {},
   "outputs": [
    {
     "name": "stdout",
     "output_type": "stream",
     "text": [
      "(569.0,)\n",
      "(192.29999999999998,)\n",
      "(1706.5,)\n",
      "(230.1,)\n"
     ]
    }
   ],
   "source": [
    "cur.execute(\"SELECT SUM(Rainfall) FROM cityWeather GROUP BY Season\")\n",
    "H=cur.fetchall()\n",
    "for item in H:\n",
    "    print(item)"
   ]
  },
  {
   "cell_type": "markdown",
   "id": "1884d65c",
   "metadata": {},
   "source": [
    "# Question 9\n",
    "Suppose list words is defined as follows: words = ['The', 'quick', 'brown', 'fox', 'jumps', 'over', 'the', 'lazy', 'dog'] Write list comprehension expressions that use list words and generate the following lists:"
   ]
  },
  {
   "cell_type": "code",
   "execution_count": 1,
   "id": "3800dcc9",
   "metadata": {},
   "outputs": [],
   "source": [
    "words = ['The', 'quick', 'brown', 'fox', 'jumps', 'over','the', 'lazy', 'dog']"
   ]
  },
  {
   "cell_type": "markdown",
   "id": "04808b7a",
   "metadata": {},
   "source": [
    "# a) "
   ]
  },
  {
   "cell_type": "code",
   "execution_count": 2,
   "id": "5e5e3b58",
   "metadata": {},
   "outputs": [
    {
     "name": "stdout",
     "output_type": "stream",
     "text": [
      "['THE', 'QUICK', 'BROWN', 'FOX', 'JUMPS', 'OVER', 'THE', 'LAZY', 'DOG']\n"
     ]
    }
   ],
   "source": [
    "a = [elements.upper() for elements in words]\n",
    "print (a)"
   ]
  },
  {
   "cell_type": "markdown",
   "id": "4efd8a1c",
   "metadata": {},
   "source": [
    "# b)"
   ]
  },
  {
   "cell_type": "code",
   "execution_count": 3,
   "id": "a54ad129",
   "metadata": {},
   "outputs": [
    {
     "name": "stdout",
     "output_type": "stream",
     "text": [
      "['the', 'quick', 'brown', 'fox', 'jumps', 'over', 'the', 'lazy', 'dog']\n"
     ]
    }
   ],
   "source": [
    "b = [elements.lower() for elements in words]\n",
    "print(b)"
   ]
  },
  {
   "cell_type": "markdown",
   "id": "019fd162",
   "metadata": {},
   "source": [
    "# c)"
   ]
  },
  {
   "cell_type": "code",
   "execution_count": 4,
   "id": "411fdde1",
   "metadata": {},
   "outputs": [
    {
     "name": "stdout",
     "output_type": "stream",
     "text": [
      "[3, 5, 5, 3, 5, 4, 3, 4, 3]\n"
     ]
    }
   ],
   "source": [
    "c = [len(elements) for elements in words]\n",
    "print(c)"
   ]
  },
  {
   "cell_type": "markdown",
   "id": "5165514a",
   "metadata": {},
   "source": [
    "# d)"
   ]
  },
  {
   "cell_type": "code",
   "execution_count": 5,
   "id": "5ca6c2ba",
   "metadata": {},
   "outputs": [
    {
     "name": "stdout",
     "output_type": "stream",
     "text": [
      "[['THE', 'the', 3], ['QUICK', 'quick', 5], ['BROWN', 'brown', 5], ['FOX', 'fox', 3], ['JUMPS', 'jumps', 5], ['OVER', 'over', 4], ['THE', 'the', 3], ['LAZY', 'lazy', 4], ['DOG', 'dog', 3]]\n"
     ]
    }
   ],
   "source": [
    "d = [[elements.upper(),elements.lower(),len(elements)] for elements in words]\n",
    "print(d)"
   ]
  },
  {
   "cell_type": "markdown",
   "id": "ce552e6e",
   "metadata": {},
   "source": [
    "# e)"
   ]
  },
  {
   "cell_type": "code",
   "execution_count": 6,
   "id": "d20ff2d4",
   "metadata": {},
   "outputs": [
    {
     "name": "stdout",
     "output_type": "stream",
     "text": [
      "['quick', 'brown', 'jumps', 'over', 'lazy']\n"
     ]
    }
   ],
   "source": [
    "e = [elements for elements in words if len(elements)>=4]\n",
    "print(e)"
   ]
  }
 ],
 "metadata": {
  "kernelspec": {
   "display_name": "Python 3 (ipykernel)",
   "language": "python",
   "name": "python3"
  },
  "language_info": {
   "codemirror_mode": {
    "name": "ipython",
    "version": 3
   },
   "file_extension": ".py",
   "mimetype": "text/x-python",
   "name": "python",
   "nbconvert_exporter": "python",
   "pygments_lexer": "ipython3",
   "version": "3.9.12"
  }
 },
 "nbformat": 4,
 "nbformat_minor": 5
}
